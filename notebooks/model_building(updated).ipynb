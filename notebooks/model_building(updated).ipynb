{
 "cells": [
  {
   "cell_type": "markdown",
   "metadata": {},
   "source": [
    "Build a regression model."
   ]
  },
  {
   "cell_type": "code",
   "execution_count": 7,
   "metadata": {},
   "outputs": [
    {
     "name": "stdout",
     "output_type": "stream",
     "text": [
      "                            OLS Regression Results                            \n",
      "==============================================================================\n",
      "Dep. Variable:       utilization_rate   R-squared:                       0.993\n",
      "Model:                            OLS   Adj. R-squared:                  0.992\n",
      "Method:                 Least Squares   F-statistic:                     1432.\n",
      "Date:                Mon, 18 Dec 2023   Prob (F-statistic):           1.94e-43\n",
      "Time:                        20:08:31   Log-Likelihood:                 128.82\n",
      "No. Observations:                  46   AIC:                            -247.6\n",
      "Df Residuals:                      41   BIC:                            -238.5\n",
      "Df Model:                           4                                         \n",
      "Covariance Type:            nonrobust                                         \n",
      "===================================================================================\n",
      "                      coef    std err          t      P>|t|      [0.025      0.975]\n",
      "-----------------------------------------------------------------------------------\n",
      "const               0.6767      0.032     21.066      0.000       0.612       0.742\n",
      "Available Bikes    -0.0198      0.002    -12.307      0.000      -0.023      -0.017\n",
      "empty_slots         0.0105      0.001     12.233      0.000       0.009       0.012\n",
      "rating             -0.0077      0.006     -1.344      0.186      -0.019       0.004\n",
      "review_count    -7.355e-05   3.76e-05     -1.957      0.057      -0.000    2.34e-06\n",
      "==============================================================================\n",
      "Omnibus:                        7.622   Durbin-Watson:                   0.921\n",
      "Prob(Omnibus):                  0.022   Jarque-Bera (JB):                2.719\n",
      "Skew:                           0.222   Prob(JB):                        0.257\n",
      "Kurtosis:                       1.895   Cond. No.                     1.46e+03\n",
      "==============================================================================\n",
      "\n",
      "Notes:\n",
      "[1] Standard Errors assume that the covariance matrix of the errors is correctly specified.\n",
      "[2] The condition number is large, 1.46e+03. This might indicate that there are\n",
      "strong multicollinearity or other numerical problems.\n"
     ]
    }
   ],
   "source": [
    "import pandas as pd\n",
    "import statsmodels.api as sm\n",
    "\n",
    "# Load your dataset\n",
    "df = pd.read_excel('merged_data_all.xlsx')  \n",
    "\n",
    "# Calculate Utilization Rate\n",
    "df['utilization_rate'] = df['empty_slots'] / df['total_spots']\n",
    "\n",
    "# Select relevant features and the target variable\n",
    "\n",
    "X = df[['Available Bikes', 'empty_slots', 'rating', 'review_count']]\n",
    "y = df['utilization_rate']\n",
    "\n",
    "# Add a constant term\n",
    "X = sm.add_constant(X)\n",
    "\n",
    "# Fit the model\n",
    "model = sm.OLS(y, X).fit()\n",
    "\n",
    "# Get summary statistics\n",
    "print(model.summary())"
   ]
  },
  {
   "cell_type": "markdown",
   "metadata": {},
   "source": [
    "Provide model output and an interpretation of the results. "
   ]
  },
  {
   "cell_type": "code",
   "execution_count": null,
   "metadata": {},
   "outputs": [],
   "source": [
    "## -Available Bikes and empty_slots have negative coefficients which could show that as the number of available bikes or empty slots increases, the utilization rate tends to decrease.\n",
    "## -The R-squared value is high which is desirable but could indicate multicolliniearity. This can cause issues as it could mask the individual effects of the predictor variables on a dependant variable"
   ]
  },
  {
   "cell_type": "markdown",
   "metadata": {},
   "source": [
    "# Stretch"
   ]
  },
  {
   "cell_type": "markdown",
   "metadata": {},
   "source": [
    "How can you turn the regression model into a classification model?"
   ]
  },
  {
   "cell_type": "code",
   "execution_count": null,
   "metadata": {},
   "outputs": [],
   "source": []
  }
 ],
 "metadata": {
  "kernelspec": {
   "display_name": "Python 3 (ipykernel)",
   "language": "python",
   "name": "python3"
  },
  "language_info": {
   "codemirror_mode": {
    "name": "ipython",
    "version": 3
   },
   "file_extension": ".py",
   "mimetype": "text/x-python",
   "name": "python",
   "nbconvert_exporter": "python",
   "pygments_lexer": "ipython3",
   "version": "3.11.5"
  }
 },
 "nbformat": 4,
 "nbformat_minor": 4
}
